{
 "cells": [
  {
   "cell_type": "markdown",
   "metadata": {},
   "source": [
    "# 0. Background\n",
    "## 0.1 information theory\n",
    "\n",
    "$$\n",
    "\\begin{split}\n",
    "H(X)& = -\\int p(X=x)\\log{p(X=x)} dx \\\\\n",
    "H(X,Y) &=-\\int\\int p(X=x, Y=y)\\log{p(X=x, Y=y)} dxdy \\\\\n",
    "H(Y|X) &= H(X,Y)-H(X)\\\\\n",
    "&=-\\int\\int p(X=x, Y=y)\\log{p(X=x, Y=y)} dxdy+\\int p(X=x)\\log{p(X=x)} dx\\\\\n",
    "&=-\\int\\int p(X=x, Y=y)\\log{p(X=x, Y=y)} dxdy+\\int \\int p(X=x, Y=y)\\log{p(X=x)} dxdy\\mathrm{(marginal)} \\\\\n",
    "&=-\\int\\int p(X=x, Y=y)\\big{(}\\log{p(X=x, Y=y)} - \\log{p(X=x)}\\big{)} dxdy   \\\\\n",
    "&=-\\int\\int p(X=x, Y=y)\\log{p(Y=y|X=x)}dxdy \\mathrm{(conditional probability)}\\\\\n",
    "\\therefore H(Y|X) &= -\\int\\int p(X=x, Y=y)\\log{p(Y=y|X=x)}dxdy \\\\\n",
    "\\end{split}$$"
   ]
  },
  {
   "cell_type": "markdown",
   "metadata": {},
   "source": [
    "**By its definition**\n",
    "$$\n",
    "\\begin{split}\n",
    "H(X,Y)&= H(X) + H(Y|X) \\\\\n",
    "&= H(Y)+H(X|Y)\\\\\n",
    "\\Rightarrow H(X)-H(X|Y) &= H(Y)-H(Y|X) \\\\\n",
    "\\therefore I(X;Y) &= H(X)-H(X|Y) = H(Y) - H(Y|X)\\\\\n",
    "\\end{split}$$"
   ]
  },
  {
   "cell_type": "markdown",
   "metadata": {},
   "source": [
    "# 1. Variational Information Maximization"
   ]
  },
  {
   "cell_type": "markdown",
   "metadata": {},
   "source": [
    "$$\\begin{split}\n",
    "I(c;G(z,c)& = H(c)-H(c|G(z,c))\\\\\n",
    " & = H(c)+\\int\\int p(C=c', X=G(z,c))\\log{p(C=c'|X=G(z,c))}dc'dz\\\\\n",
    " & = H(c)+\\mathbb{E}_{x\\sim G(z,c)}[\\mathbb{E}_{c'\\sim P(c|x)}[\\log P(c'|x)]]\\\\\n",
    " & = H(c)+\\mathbb{E}_{x\\sim G(z,c)}[\\mathbb{E}_{c'\\sim P(c|x)}[\\frac{\\log P(c'|x)}{\\log Q(c'|x)}]+\\mathbb{E}_{c'\\sim P(c|x)}[\\log Q(c'|x)] ]\\\\\n",
    " &= H(c)+\\mathbb{E}_{x\\sim G(z,c)}[D_{KL}(P||Q)+\\mathbb{E}_{c'\\sim P(c|x)}[\\log Q(c'|x)] ]\\\\\n",
    "  &\\geq H(c)+\\mathbb{E}_{x\\sim G(z,c)}[\\mathbb{E}_{c'\\sim P(c|x)}[\\log Q(c'|x)] ]=L_I(G,Q)\\\\\n",
    "\\end{split}$$"
   ]
  },
  {
   "cell_type": "markdown",
   "metadata": {},
   "source": [
    "### 1.2 lemma\n",
    "$$\\begin{split}\n",
    "\\mathbb{E}_{x\\sim X, y\\sim Y|x}[f(x,y)]&=\\int p(X=x) \\int p(Y=y|x) f(x,y) dy dx\\\\\n",
    "&=\\int \\int p(X=x, Y=y) f(x,y) dy dx\\\\\n",
    "&=\\int \\int p(X=x', Y=y) f(x',y) dx' dy\\\\\n",
    "&=\\int \\int p(Y=y)p(X=x'| Y=y) f(x',y)  dx' dy\\\\\n",
    "&=\\int \\int \\int p(X=x, Y=y)p(X=x'| Y=y) f(x',y)  dx' dy dx  \\mathrm{(dummy variable)}\\\\\n",
    "&=\\int \\int \\int p(X=x) P(Y=y|X=x)p(X=x'| Y=y) f(x',y)  dx' dy dx\\\\\n",
    "&=\\int p(X=x)\\int  P(Y=y|X=x) \\int p(X=x'| Y=y) f(x',y)  dx' dy dx\\\\\n",
    "&=\\mathbb{E}_{x\\sim X, y \\sim Y|x, x'\\sim X|y}[f(x',y)]\\\\\n",
    "\\end{split}\n",
    "$$"
   ]
  },
  {
   "cell_type": "markdown",
   "metadata": {},
   "source": [
    "# Lower bound calculation"
   ]
  },
  {
   "cell_type": "markdown",
   "metadata": {},
   "source": [
    "$$\n",
    "\\begin{split}\n",
    "L_I(G,Q) &= \\mathbb{E}_{x\\sim G(z,c)}[\\mathbb{E}_{c'\\sim P(c|x)}[\\log Q(c'|x)]]+H(c)\\\\\n",
    "&= \\mathbb{E}_{c \\sim P(c), x\\sim G(z,c), c' \\sim P(c|x)}[\\log Q(c'|x)]+H(c)\\\\\n",
    "&= \\mathbb{E}_{c \\sim P(c), x\\sim G(z,c)}[\\log Q(c|x)]+H(c)\\mathrm{(lemma 5.1)}\n",
    "\\end{split}\n",
    "$$"
   ]
  }
 ],
 "metadata": {
  "kernelspec": {
   "display_name": "Python [default]",
   "language": "python",
   "name": "python3"
  },
  "language_info": {
   "codemirror_mode": {
    "name": "ipython",
    "version": 3
   },
   "file_extension": ".py",
   "mimetype": "text/x-python",
   "name": "python",
   "nbconvert_exporter": "python",
   "pygments_lexer": "ipython3",
   "version": "3.6.0"
  }
 },
 "nbformat": 4,
 "nbformat_minor": 2
}
