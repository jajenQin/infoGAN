{
 "cells": [
  {
   "cell_type": "markdown",
   "metadata": {},
   "source": [
    "### information theory\n",
    "\n",
    "$$H(X) = -\\int p(X=x)\\log{p(X=x)} dx$$\n",
    "\n",
    "$$H(X,Y)=-\\int\\int p(X=x, Y=y)\\log{p(X=x, Y=y)} dxdy $$\n",
    "\n",
    "$$H(Y|X) = H(X,Y)-H(X) = -\\int\\int p(X=x, Y=y)\\log{p(X=x, Y=y)} dxdy $$\n",
    "\n",
    "$$=-\\int\\int p(X=x, Y=y)\\log{p(X=x, Y=y)} dxdy+\\int p(X=x)\\log{p(X=x)} dx$$\n",
    "\n",
    "$$=-\\int\\int p(X=x, Y=y)\\log{p(X=x, Y=y)} dxdy+\\int \\int p(X=x, Y=y)\\log{p(X=x)} dxdy$$\n",
    "\n",
    "$$=-\\int\\int p(X=x, Y=y)\\big{(}\\log{p(X=x, Y=y)} - \\log{p(X=x)}\\big{)} dxdy$$\n",
    "\n",
    "$$=-\\int\\int p(X=x, Y=y)\\log{p(Y=y|X=x)}dxdy$$\n",
    "\n",
    "by its definition\n",
    "$$H(X,Y) = H(X) + H(Y|X) = H(Y)+H(X|Y)$$\n",
    "\n",
    "$$\\therefore H(X)-H(X|Y) = H(Y)-H(Y|X) $$\n",
    "\n",
    "$$I(X;Y) = H(X)-H(X|Y) = H(Y) - H(Y|X)$$"
   ]
  },
  {
   "cell_type": "markdown",
   "metadata": {},
   "source": [
    "# lemma 5.1"
   ]
  },
  {
   "cell_type": "markdown",
   "metadata": {},
   "source": [
    "$$\\mathbb{E}_{x\\sim X, y\\sim Y|x}[f(x,y)]=\\int p(X=x) \\int p(Y=y|x) f(x,y) dy dx$$\n",
    "\n",
    "$$=\\int \\int p(X=x, Y=y) f(x,y) dy dx$$\n",
    "\n",
    "$$=\\int \\int p(X=x', Y=y) f(x',y) dx' dy$$\n",
    "\n",
    "$$=\\int \\int p(Y=y)p(X=x'| Y=y) f(x',y)  dx' dy$$\n",
    "\n",
    "$$=\\int \\int \\int p(X=x, Y=y)p(X=x'| Y=y) f(x',y)  dx' dy dx  \\mathrm{(dummy variable)}$$\n",
    "\n",
    "$$=\\int \\int \\int p(X=x) P(Y=y|X=x)p(X=x'| Y=y) f(x',y)  dx' dy dx$$\n",
    "\n",
    "$$=\\int p(X=x)\\int  P(Y=y|X=x) \\int p(X=x'| Y=y) f(x',y)  dx' dy dx$$\n",
    "\n",
    "$$=\\mathbb{E}_{x\\sim X, y \\sim Y|x, x'\\sim X|y}[f(x',y)]$$"
   ]
  },
  {
   "cell_type": "markdown",
   "metadata": {},
   "source": [
    "# Lower bound calculation"
   ]
  },
  {
   "cell_type": "markdown",
   "metadata": {},
   "source": [
    "$$I(c;G(z,c))\\geq \\mathbb{E}_{x\\sim G(z,c)}[\\mathbb{E}_{c'\\sim P(c|x)}[\\log Q(c'|x)]]+H(c)$$\n",
    "\n",
    "$$= \\mathbb{E}_{c \\sim P(c), x\\sim G(z,c), c' \\sim P(c|x)}[\\log Q(c'|x)]+H(c)$$\n",
    "\n",
    "$$= \\mathbb{E}_{c \\sim P(c), x\\sim G(z,c)}[\\log Q(c|x)]+H(c)\\mathrm{<=lemma 5.1)}$$"
   ]
  }
 ],
 "metadata": {
  "kernelspec": {
   "display_name": "Python 3",
   "language": "python",
   "name": "python3"
  },
  "language_info": {
   "codemirror_mode": {
    "name": "ipython",
    "version": 3
   },
   "file_extension": ".py",
   "mimetype": "text/x-python",
   "name": "python",
   "nbconvert_exporter": "python",
   "pygments_lexer": "ipython3",
   "version": "3.6.1"
  }
 },
 "nbformat": 4,
 "nbformat_minor": 2
}
